{
 "cells": [
  {
   "cell_type": "code",
   "execution_count": 64,
   "metadata": {},
   "outputs": [
    {
     "data": {
      "image/png": "[encoded data removed]",
      "text/plain": [
       "<Figure size 432x288 with 1 Axes>"
      ]
     },
     "metadata": {
      "needs_background": "light"
     },
     "output_type": "display_data"
    }
   ],
   "source": [
    "%matplotlib inline\n",
    "import matplotlib\n",
    "import numpy as np\n",
    "import matplotlib.pyplot as plt\n",
    "import csv\n",
    "\n",
    "x = []\n",
    "y = []\n",
    "\n",
    "with open('data.csv','r') as csvfile:\n",
    "    plots = csv.reader(csvfile, delimiter=',')\n",
    "    for row in plots:\n",
    "        x.append(float(row[0]))\n",
    "        y.append(float(row[1]) + 23)\n",
    "        \n",
    "plt.plot(x,y, label='Length')\n",
    "plt.xlabel('kg')\n",
    "plt.ylabel('cm')\n",
    "plt.title('ToD')\n",
    "plt.legend()\n",
    "\n",
    "\n",
    "plt.show()"
   ]
  },
  {
   "cell_type": "code",
   "execution_count": 66,
   "metadata": {},
   "outputs": [],
   "source": [
    "# Create test and training sets.\n",
    "\n",
    "import pandas as pd\n",
    "data = pd.read_csv(\"data.csv\", header=None, names=['kg', 'cm'])\n",
    "labels = data['kg']\n",
    "train1 = data.drop(['kg'], axis=1)\n",
    "\n",
    "from sklearn.cross_validation import train_test_split\n",
    "x_train, x_test, y_train, y_test = train_test_split(train1, labels)"
   ]
  },
  {
   "cell_type": "code",
   "execution_count": 68,
   "metadata": {},
   "outputs": [
    {
     "name": "stdout",
     "output_type": "stream",
     "text": [
      "[50.42722222]\n"
     ]
    }
   ],
   "source": [
    "# Guess kg based on cm.\n",
    "\n",
    "from sklearn.linear_model import LinearRegression\n",
    "reg = LinearRegression()\n",
    "\n",
    "reg.fit(x_train, y_train)\n",
    "\n",
    "reg.score(x_test, y_test)\n",
    "print(reg.predict(260))"
   ]
  },
  {
   "cell_type": "code",
   "execution_count": 71,
   "metadata": {},
   "outputs": [
    {
     "name": "stdout",
     "output_type": "stream",
     "text": [
      "[51.00060087]\n"
     ]
    }
   ],
   "source": [
    "# Guess kg based on cm using a different method.\n",
    "\n",
    "from sklearn import ensemble\n",
    "\n",
    "clf = ensemble.GradientBoostingRegressor(n_estimators=400, max_depth=5, min_samples_split=2, learning_rate=0.1, loss='ls')\n",
    "\n",
    "clf.fit(x_train, y_train)\n",
    "clf.score(x_test, y_test)\n",
    "print(clf.predict(260))"
   ]
  },
  {
   "cell_type": "code",
   "execution_count": 77,
   "metadata": {},
   "outputs": [
    {
     "name": "stdout",
     "output_type": "stream",
     "text": [
      "[-10.40846707]\n"
     ]
    }
   ],
   "source": [
    "# Guess cm based on kg.\n",
    "\n",
    "import pandas as pd\n",
    "data = pd.read_csv(\"data.csv\", header=None, names=['kg', 'cm'])\n",
    "labels = data['cm']\n",
    "train1 = data.drop(['cm'], axis=1)\n",
    "\n",
    "from sklearn.cross_validation import train_test_split\n",
    "x_train, x_test, y_train, y_test = train_test_split(train1, labels, test_size=0.10)\n",
    "\n",
    "from sklearn.linear_model import LinearRegression\n",
    "reg = LinearRegression()\n",
    "\n",
    "reg.fit(x_train, y_train)\n",
    "\n",
    "reg.score(x_test, y_test)\n",
    "print(reg.predict(145))"
   ]
  },
  {
   "cell_type": "code",
   "execution_count": 81,
   "metadata": {},
   "outputs": [
    {
     "data": {
      "text/plain": [
       "array([-167.99902077])"
      ]
     },
     "execution_count": 81,
     "metadata": {},
     "output_type": "execute_result"
    }
   ],
   "source": [
    "data = pd.read_csv('data.csv', header=None, names=['kg', 'cm'])\n",
    "labels = data['cm']\n",
    "train1 = data.drop(['cm'], axis=1) #This is similar to selecting the kg column\n",
    "\n",
    "from sklearn.model_selection import train_test_split\n",
    "x_train, x_test, y_train, y_test = train_test_split(train1, labels, test_size=0.10, random_state=2)\n",
    "\n",
    "from sklearn.linear_model import LinearRegression\n",
    "\n",
    "reg = LinearRegression()\n",
    "reg.fit(x_train, y_train)\n",
    "reg.score(x_test, y_test)\n",
    "\n",
    "import numpy as np\n",
    "reg.predict(np.array([80]).reshape(-1, 1))"
   ]
  }
 ],
 "metadata": {
  "kernelspec": {
   "display_name": "Python 3",
   "language": "python",
   "name": "python3"
  },
  "language_info": {
   "codemirror_mode": {
    "name": "ipython",
    "version": 3
   },
   "file_extension": ".py",
   "mimetype": "text/x-python",
   "name": "python",
   "nbconvert_exporter": "python",
   "pygments_lexer": "ipython3",
   "version": "3.7.0"
  }
 },
 "nbformat": 4,
 "nbformat_minor": 2
}
